{
 "metadata": {
  "language_info": {
   "codemirror_mode": {
    "name": "ipython",
    "version": 3
   },
   "file_extension": ".py",
   "mimetype": "text/x-python",
   "name": "python",
   "nbconvert_exporter": "python",
   "pygments_lexer": "ipython3",
   "version": "3.9.4"
  },
  "orig_nbformat": 2,
  "kernelspec": {
   "name": "python3",
   "display_name": "Python 3.9.4 64-bit ('base': conda)"
  },
  "interpreter": {
   "hash": "7d904ebce500d36412d3f6fe460c6a4928dfb73f3d33cf43e820832a3473ef4f"
  }
 },
 "nbformat": 4,
 "nbformat_minor": 2,
 "cells": [
  {
   "source": [
    "# Preprocessing for data\n",
    "\n",
    "根据[DHL的分析](group_project1/dataset_vrtest.txt)，我们选取 VRtest 的 p 值最小的两组数据进行研究。\n",
    "\n",
    "```\n",
    "AAPL p_value for q=2 is  0.07944674496601034\n",
    "MSFT p_value for q=2 is  0.1923759628543844\n",
    "```"
   ],
   "cell_type": "markdown",
   "metadata": {}
  },
  {
   "cell_type": "code",
   "execution_count": 1,
   "metadata": {},
   "outputs": [],
   "source": [
    "import numpy as np\n",
    "import pandas as pd\n",
    "import quandl\n",
    "import matplotlib.pyplot as plt\n",
    "quandl.ApiConfig.api_key = \"gko2xtWsbGfFLkKDD-KD\"\n",
    "%matplotlib inline"
   ]
  },
  {
   "cell_type": "code",
   "execution_count": 2,
   "metadata": {},
   "outputs": [],
   "source": [
    "DATA_PATH = 'data'\n",
    "AAPL_TRAIN = 'aapl_train.csv'\n",
    "AAPL_TEST = 'aapl_test.csv'\n",
    "MSFT_TRAIN = 'msft_train.csv'\n",
    "MSFT_TEST = 'msft_test.csv'"
   ]
  },
  {
   "cell_type": "code",
   "execution_count": 3,
   "metadata": {},
   "outputs": [
    {
     "output_type": "stream",
     "name": "stdout",
     "text": [
      "Data size: 338\n"
     ]
    },
    {
     "output_type": "execute_result",
     "data": {
      "text/plain": [
       "ticker          AAPL      MSFT\n",
       "date                          \n",
       "1990-02-28  0.003259  0.067568\n",
       "1990-03-31  0.183824  0.121519\n",
       "1990-04-30 -0.021615  0.047404\n",
       "1990-05-31  0.050403  0.258621\n",
       "1990-06-30  0.084848  0.041096"
      ],
      "text/html": "<div>\n<style scoped>\n    .dataframe tbody tr th:only-of-type {\n        vertical-align: middle;\n    }\n\n    .dataframe tbody tr th {\n        vertical-align: top;\n    }\n\n    .dataframe thead th {\n        text-align: right;\n    }\n</style>\n<table border=\"1\" class=\"dataframe\">\n  <thead>\n    <tr style=\"text-align: right;\">\n      <th>ticker</th>\n      <th>AAPL</th>\n      <th>MSFT</th>\n    </tr>\n    <tr>\n      <th>date</th>\n      <th></th>\n      <th></th>\n    </tr>\n  </thead>\n  <tbody>\n    <tr>\n      <th>1990-02-28</th>\n      <td>0.003259</td>\n      <td>0.067568</td>\n    </tr>\n    <tr>\n      <th>1990-03-31</th>\n      <td>0.183824</td>\n      <td>0.121519</td>\n    </tr>\n    <tr>\n      <th>1990-04-30</th>\n      <td>-0.021615</td>\n      <td>0.047404</td>\n    </tr>\n    <tr>\n      <th>1990-05-31</th>\n      <td>0.050403</td>\n      <td>0.258621</td>\n    </tr>\n    <tr>\n      <th>1990-06-30</th>\n      <td>0.084848</td>\n      <td>0.041096</td>\n    </tr>\n  </tbody>\n</table>\n</div>"
     },
     "metadata": {},
     "execution_count": 3
    }
   ],
   "source": [
    "StockReturns = quandl.get_table(\"WIKI/PRICES\",\n",
    "                               ticker=['MSFT','AAPL'],\n",
    "                               qopts={'columns':['ticker','date','adj_close','adj_volume']},\n",
    "                               date={'gte':'1990-1-1','lte':'2021-5-10'},\n",
    "                               paginate=True)\\\n",
    "    .pivot(index='date',columns='ticker',values='adj_close')\\\n",
    "    .resample('M').last()\\\n",
    "    .pct_change()\\\n",
    "    .dropna()\n",
    "print(f\"Data size: {len(StockReturns)}\")\n",
    "StockReturns.head()"
   ]
  },
  {
   "cell_type": "code",
   "execution_count": 4,
   "metadata": {},
   "outputs": [
    {
     "output_type": "stream",
     "name": "stdout",
     "text": [
      "数据缺失：False\n"
     ]
    }
   ],
   "source": [
    "# 验证数据是否有缺失\n",
    "print(f'数据缺失：{pd.isna(StockReturns).values.any()}')"
   ]
  },
  {
   "source": [
    "TEST_FRAC = 0.3  # 后 30% 作为测试集\n",
    "trainSize = int(len(StockReturns) * (1 - TEST_FRAC))\n",
    "trainSet = StockReturns.iloc[:trainSize, :]\n",
    "testSet = StockReturns.iloc[trainSize:, :]"
   ],
   "cell_type": "code",
   "metadata": {},
   "execution_count": 5,
   "outputs": []
  },
  {
   "cell_type": "code",
   "execution_count": 6,
   "metadata": {},
   "outputs": [],
   "source": [
    "import os\n",
    "os.chdir(DATA_PATH)"
   ]
  },
  {
   "cell_type": "code",
   "execution_count": 7,
   "metadata": {},
   "outputs": [],
   "source": [
    "trainSet['AAPL'].to_csv(AAPL_TRAIN)\n",
    "trainSet['MSFT'].to_csv(MSFT_TRAIN)\n",
    "testSet['AAPL'].to_csv(AAPL_TEST)\n",
    "testSet['MSFT'].to_csv(MSFT_TEST)"
   ]
  }
 ]
}